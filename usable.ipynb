{
 "cells": [
  {
   "cell_type": "code",
   "execution_count": 3,
   "metadata": {},
   "outputs": [],
   "source": [
    "import numpy as np\n",
    "import pandas as pd\n",
    "import tensorflow as tf\n",
    "import gensim\n",
    "import keras\n",
    "from keras._tf_keras.keras.preprocessing.sequence import pad_sequences"
   ]
  },
  {
   "cell_type": "code",
   "execution_count": 4,
   "metadata": {},
   "outputs": [
    {
     "name": "stderr",
     "output_type": "stream",
     "text": [
      "WARNING:absl:Compiled the loaded model, but the compiled metrics have yet to be built. `model.compile_metrics` will be empty until you train or evaluate the model.\n"
     ]
    }
   ],
   "source": [
    "ann=keras.models.load_model(\"SentimentPrediction.h5\")\n",
    "gensimModel=gensim.models.Word2Vec.load(\"GensimVocabModel.h5\")"
   ]
  },
  {
   "cell_type": "code",
   "execution_count": 5,
   "metadata": {},
   "outputs": [],
   "source": [
    "def sentenceToVector(sentence):\n",
    "    result=[]\n",
    "    for word in sentence:\n",
    "        if word in gensimModel.wv:\n",
    "            embedding = gensimModel.wv[word]\n",
    "            result.append(embedding)\n",
    "        else:\n",
    "            result.append(np.random.uniform(-0.25, 0.25, gensimModel.vector_size))\n",
    "    return result"
   ]
  },
  {
   "cell_type": "code",
   "execution_count": 6,
   "metadata": {},
   "outputs": [],
   "source": [
    "def predictSentiment(sentence):\n",
    "    sentence=gensim.utils.simple_preprocess(sentence)\n",
    "    sentence=sentenceToVector(sentence)\n",
    "    sentence=pad_sequences([sentence],maxlen=40,padding=\"post\",dtype=\"float32\")\n",
    "    sentence=np.array(sentence,dtype=\"float32\")\n",
    "    sentence=sentence.flatten()\n",
    "    sentence=np.array([sentence])\n",
    "    result=ann.predict(sentence)[0][0]\n",
    "    if result>.5:\n",
    "        print(\"Positive: \",result)\n",
    "    else:\n",
    "        print(\"Negative: \",result)"
   ]
  },
  {
   "cell_type": "code",
   "execution_count": 8,
   "metadata": {},
   "outputs": [
    {
     "name": "stdout",
     "output_type": "stream",
     "text": [
      "\u001b[1m1/1\u001b[0m \u001b[32m━━━━━━━━━━━━━━━━━━━━\u001b[0m\u001b[37m\u001b[0m \u001b[1m0s\u001b[0m 14ms/step\n",
      "Positive:  0.93879974\n"
     ]
    }
   ],
   "source": [
    "predictSentiment(\"i am good\")"
   ]
  }
 ],
 "metadata": {
  "kernelspec": {
   "display_name": "Python 3",
   "language": "python",
   "name": "python3"
  },
  "language_info": {
   "codemirror_mode": {
    "name": "ipython",
    "version": 3
   },
   "file_extension": ".py",
   "mimetype": "text/x-python",
   "name": "python",
   "nbconvert_exporter": "python",
   "pygments_lexer": "ipython3",
   "version": "3.11.5"
  }
 },
 "nbformat": 4,
 "nbformat_minor": 2
}
